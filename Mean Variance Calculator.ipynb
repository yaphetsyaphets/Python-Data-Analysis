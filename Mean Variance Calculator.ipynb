{
 "cells": [
  {
   "cell_type": "code",
   "execution_count": 1,
   "id": "cd0cf228-edff-4715-8284-6b2886ae1bcb",
   "metadata": {},
   "outputs": [],
   "source": [
    "import numpy as np\n",
    "\n",
    "def calculate(list):\n",
    "  if len(list) != 9:\n",
    "    return ValueError(\"List must contain nine numbers.\")\n",
    "\n",
    "  ls = np.array(list).reshape((3,3))\n",
    "\n",
    "  calculations = {\n",
    "      'mean': [ls.mean(axis=0).tolist(), ls.mean(axis=1).tolist(), np.mean(ls).tolist()],\n",
    "      'variance': [ls.var(axis=0).tolist(), ls.var(axis=1).tolist(), np.var(ls).tolist()],\n",
    "      'standard deviation': [ls.std(axis=0).tolist(), ls.std(axis=1).tolist(), np.std(ls).tolist()],\n",
    "      'max': [ls.max(axis=0).tolist(), ls.max(axis=1).tolist(), np.max(ls).tolist()],\n",
    "      'min': [ls.min(axis=0).tolist(), ls.min(axis=1).tolist(), np.min(ls).tolist()],\n",
    "      'sum': [ls.sum(axis=0).tolist(), ls.sum(axis=1).tolist(), np.sum(ls).tolist()]\n",
    "    }\n",
    "\n",
    "  return calculations"
   ]
  },
  {
   "cell_type": "code",
   "execution_count": 2,
   "id": "11bea9e7-b1e2-45df-ad36-f71f7d598c3b",
   "metadata": {},
   "outputs": [
    {
     "data": {
      "text/plain": [
       "{'mean': [[3.0, 4.0, 5.0], [1.0, 4.0, 7.0], 4.0],\n",
       " 'variance': [[6.0, 6.0, 6.0],\n",
       "  [0.6666666666666666, 0.6666666666666666, 0.6666666666666666],\n",
       "  6.666666666666667],\n",
       " 'standard deviation': [[2.449489742783178,\n",
       "   2.449489742783178,\n",
       "   2.449489742783178],\n",
       "  [0.816496580927726, 0.816496580927726, 0.816496580927726],\n",
       "  2.581988897471611],\n",
       " 'max': [[6, 7, 8], [2, 5, 8], 8],\n",
       " 'min': [[0, 1, 2], [0, 3, 6], 0],\n",
       " 'sum': [[9, 12, 15], [3, 12, 21], 36]}"
      ]
     },
     "execution_count": 2,
     "metadata": {},
     "output_type": "execute_result"
    }
   ],
   "source": [
    "calculate([0,1,2,3,4,5,6,7,8])"
   ]
  },
  {
   "cell_type": "code",
   "execution_count": null,
   "id": "57525c48-3b6c-4e6e-950d-e66a92664e6b",
   "metadata": {},
   "outputs": [],
   "source": []
  }
 ],
 "metadata": {
  "kernelspec": {
   "display_name": "Python 3 (ipykernel)",
   "language": "python",
   "name": "python3"
  },
  "language_info": {
   "codemirror_mode": {
    "name": "ipython",
    "version": 3
   },
   "file_extension": ".py",
   "mimetype": "text/x-python",
   "name": "python",
   "nbconvert_exporter": "python",
   "pygments_lexer": "ipython3",
   "version": "3.11.5"
  }
 },
 "nbformat": 4,
 "nbformat_minor": 5
}
